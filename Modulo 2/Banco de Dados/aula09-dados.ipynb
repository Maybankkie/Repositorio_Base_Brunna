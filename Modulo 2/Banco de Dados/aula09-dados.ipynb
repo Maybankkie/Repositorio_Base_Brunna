{
 "cells": [
  {
   "cell_type": "code",
   "execution_count": null,
   "id": "3c48b2bd",
   "metadata": {},
   "outputs": [
    {
     "name": "stdout",
     "output_type": "stream",
     "text": [
      "oi\n"
     ]
    }
   ],
   "source": [
    "print('oi')"
   ]
  },
  {
   "cell_type": "code",
   "execution_count": 7,
   "id": "4aba1621",
   "metadata": {},
   "outputs": [],
   "source": [
    "# Criar um banco de dados com SQLite\n",
    "\n",
    "import sqlite3\n",
    "\n",
    "conexao = sqlite3.connect('dados.db')\n",
    "\n",
    "cursor = conexao.cursor()"
   ]
  },
  {
   "cell_type": "code",
   "execution_count": 5,
   "id": "f044def9",
   "metadata": {},
   "outputs": [],
   "source": [
    "cursor.execute('''\n",
    "               \n",
    "                     CREATE TABLE IF NOT EXISTS produtos(\n",
    "                        id INTEGER PRIMARY KEY AUTOINCREMENT,\n",
    "                        marca VARCHAR(50) NOT NULL,\n",
    "                        produto VARCHAR(50) NOT NULL,\n",
    "                        quantidade INTERGER,\n",
    "                        valor DECIMAL NOT NULL    \n",
    "                    );\n",
    "               \n",
    "               ''')\n",
    "\n",
    "conexao.commit()\n",
    "conexao.close()"
   ]
  },
  {
   "cell_type": "code",
   "execution_count": 10,
   "id": "e54a86ae",
   "metadata": {},
   "outputs": [],
   "source": [
    "cursor.execute(\"INSERT INTO produtos ('marca','produto','quantidade','valor') VALUES ('Moura','bateria 60ah',10 , 500);\")      \n",
    "cursor.execute(\"INSERT INTO produtos ('marca','produto','quantidade','valor') VALUES ('AC Delco','bateria 60ah',15 , 450);\")\n",
    "               \n",
    "conexao.commit()\n",
    "conexao.close()"
   ]
  },
  {
   "cell_type": "code",
   "execution_count": 9,
   "id": "12b620de",
   "metadata": {},
   "outputs": [
    {
     "name": "stdout",
     "output_type": "stream",
     "text": [
      "(1, 'Moura', 'bateria 60ah', 10, 500)\n",
      "(2, 'AC Delco', 'bateria 60ah', 15, 450)\n"
     ]
    }
   ],
   "source": [
    "conexao = sqlite3.connect('dados.db')\n",
    "\n",
    "cursor = conexao.cursor()\n",
    "\n",
    "consulta = cursor.execute(\"select * from produtos;\")\n",
    "\n",
    "imprimir = consulta.fetchall()\n",
    "\n",
    "for i in imprimir:\n",
    "    print(i)"
   ]
  }
 ],
 "metadata": {
  "kernelspec": {
   "display_name": ".venv",
   "language": "python",
   "name": "python3"
  },
  "language_info": {
   "codemirror_mode": {
    "name": "ipython",
    "version": 3
   },
   "file_extension": ".py",
   "mimetype": "text/x-python",
   "name": "python",
   "nbconvert_exporter": "python",
   "pygments_lexer": "ipython3",
   "version": "3.13.2"
  }
 },
 "nbformat": 4,
 "nbformat_minor": 5
}
