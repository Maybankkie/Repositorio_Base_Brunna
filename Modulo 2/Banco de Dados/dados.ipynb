{
 "cells": [
  {
   "cell_type": "markdown",
   "id": "2253fe6f",
   "metadata": {},
   "source": [
    "# Aula 02 - Introdução a Data Science\n"
   ]
  },
  {
   "cell_type": "code",
   "execution_count": null,
   "id": "01363181",
   "metadata": {},
   "outputs": [],
   "source": [
    "#instalar o pandas\n",
    "\n",
    "%pip install pandas"
   ]
  },
  {
   "cell_type": "code",
   "execution_count": 4,
   "id": "2f8061bb",
   "metadata": {},
   "outputs": [
    {
     "name": "stdout",
     "output_type": "stream",
     "text": [
      "    Dia  valor vendedor\n",
      "0     1    500   Brunna\n",
      "1     2   1500  Gabriel\n",
      "2     3    750    Luana\n",
      "3     4   1255      Ana\n",
      "4     4   1700    Luana\n",
      "5     5    350  Gabriel\n",
      "6     6   3450      Ana\n",
      "7     6    250   Brunna\n",
      "8     7    850    Luana\n",
      "9     7   5000  Gabriel\n",
      "10    8   4000      Ana\n",
      "11    9   4000   Brunna\n",
      "12    9    300   Brunna\n",
      "13   10   2900      Ana\n"
     ]
    }
   ],
   "source": [
    "#importar o pandas\n",
    "import pandas as Pd\n",
    "\n",
    "df = Pd.read_csv('dados.csv')\n",
    "\n",
    "print(df)"
   ]
  },
  {
   "cell_type": "code",
   "execution_count": 9,
   "id": "12fb1bd4",
   "metadata": {},
   "outputs": [
    {
     "name": "stdout",
     "output_type": "stream",
     "text": [
      "   Dia  valor vendedor\n",
      "0    1    500   Brunna\n",
      "1    2   1500  Gabriel\n",
      "\n",
      "Index(['Dia', 'valor', 'vendedor'], dtype='object')\n"
     ]
    }
   ],
   "source": [
    "# vamos testar algunmas funcionalidades do pandas\n",
    "\n",
    "#imprimir somente as primeiras linhas \n",
    "print(df.head(2))\n",
    "print()\n",
    "print(df.columns) #ver as colunas do dataset"
   ]
  },
  {
   "cell_type": "code",
   "execution_count": 10,
   "id": "7a51b642",
   "metadata": {},
   "outputs": [
    {
     "name": "stdout",
     "output_type": "stream",
     "text": [
      "Dia          int64\n",
      "valor        int64\n",
      "vendedor    object\n",
      "dtype: object\n"
     ]
    }
   ],
   "source": [
    "#ver o tipo de dados das colunas \n",
    "print(df.dtypes)"
   ]
  },
  {
   "cell_type": "code",
   "execution_count": null,
   "id": "3738f182",
   "metadata": {},
   "outputs": [
    {
     "name": "stdout",
     "output_type": "stream",
     "text": [
      "faturamento de vendas: R$ 26805.00 reais\n",
      "Valor de vendas medio diario foi de R$1377.50 reais\n"
     ]
    }
   ],
   "source": [
    "# somar coluna de valor\n",
    "faturamento = df['valor'].sum()\n",
    "\n",
    "print(f'faturamento de vendas: R$ {faturamento:.2f} reais')\n",
    "\n",
    "# calcular a media de vendas diaria\n",
    "mediavendas = df['valor'].median()\n",
    "print(f'Valor de vendas medio diario foi de R${mediavendas:.2f} reais')\n",
    "\n"
   ]
  },
  {
   "cell_type": "code",
   "execution_count": null,
   "id": "0e096efc",
   "metadata": {},
   "outputs": [
    {
     "name": "stdout",
     "output_type": "stream",
     "text": [
      "['Brunna' 'Gabriel' 'Luana' 'Ana']\n",
      "\n",
      "vendedor\n",
      "Ana        11605\n",
      "Gabriel     6850\n",
      "Brunna      5050\n",
      "Luana       3300\n",
      "Name: valor, dtype: int64\n"
     ]
    }
   ],
   "source": [
    "# calculos agrupados \n",
    "\n",
    "# ver a lista de vendedores \n",
    "print(df['vendedor'].unique())\n",
    "print()\n",
    "# somar as vendas por vendedor\n",
    "vendasvendedor = df.groupby('vendedor')['valor'].sum()\n",
    "print(vendasvendedor.sort_values(ascending=False))\n",
    "\n"
   ]
  },
  {
   "cell_type": "code",
   "execution_count": 29,
   "id": "97294355",
   "metadata": {},
   "outputs": [
    {
     "name": "stdout",
     "output_type": "stream",
     "text": [
      "    Dia  valor vendedor\n",
      "7     6    250   Brunna\n",
      "12    9    300   Brunna\n",
      "5     5    350  Gabriel\n",
      "0     1    500   Brunna\n",
      "2     3    750    Luana\n",
      "8     7    850    Luana\n"
     ]
    }
   ],
   "source": [
    "# ver apenas as vendas menores que mil reais\n",
    "filtroVendasruins =  df[   df['valor'] < 1000 ]\n",
    "\n",
    "print(filtroVendasruins.sort_values(by='valor'))"
   ]
  },
  {
   "cell_type": "code",
   "execution_count": 30,
   "id": "8c8321fc",
   "metadata": {},
   "outputs": [
    {
     "name": "stdout",
     "output_type": "stream",
     "text": [
      "Collecting matplotlib\n",
      "  Downloading matplotlib-3.10.5-cp313-cp313-win_amd64.whl.metadata (11 kB)\n",
      "Collecting contourpy>=1.0.1 (from matplotlib)\n",
      "  Downloading contourpy-1.3.3-cp313-cp313-win_amd64.whl.metadata (5.5 kB)\n",
      "Collecting cycler>=0.10 (from matplotlib)\n",
      "  Downloading cycler-0.12.1-py3-none-any.whl.metadata (3.8 kB)\n",
      "Collecting fonttools>=4.22.0 (from matplotlib)\n",
      "  Downloading fonttools-4.59.0-cp313-cp313-win_amd64.whl.metadata (110 kB)\n",
      "Collecting kiwisolver>=1.3.1 (from matplotlib)\n",
      "  Downloading kiwisolver-1.4.8-cp313-cp313-win_amd64.whl.metadata (6.3 kB)\n",
      "Requirement already satisfied: numpy>=1.23 in c:\\users\\prog5\\desktop\\aula 09-08\\dados\\lib\\site-packages (from matplotlib) (2.3.2)\n",
      "Requirement already satisfied: packaging>=20.0 in c:\\users\\prog5\\desktop\\aula 09-08\\dados\\lib\\site-packages (from matplotlib) (25.0)\n",
      "Collecting pillow>=8 (from matplotlib)\n",
      "  Downloading pillow-11.3.0-cp313-cp313-win_amd64.whl.metadata (9.2 kB)\n",
      "Collecting pyparsing>=2.3.1 (from matplotlib)\n",
      "  Downloading pyparsing-3.2.3-py3-none-any.whl.metadata (5.0 kB)\n",
      "Requirement already satisfied: python-dateutil>=2.7 in c:\\users\\prog5\\desktop\\aula 09-08\\dados\\lib\\site-packages (from matplotlib) (2.9.0.post0)\n",
      "Requirement already satisfied: six>=1.5 in c:\\users\\prog5\\desktop\\aula 09-08\\dados\\lib\\site-packages (from python-dateutil>=2.7->matplotlib) (1.17.0)\n",
      "Downloading matplotlib-3.10.5-cp313-cp313-win_amd64.whl (8.1 MB)\n",
      "   ---------------------------------------- 0.0/8.1 MB ? eta -:--:--\n",
      "   ------------------------ --------------- 5.0/8.1 MB 26.7 MB/s eta 0:00:01\n",
      "   ---------------------------------------- 8.1/8.1 MB 25.3 MB/s eta 0:00:00\n",
      "Downloading contourpy-1.3.3-cp313-cp313-win_amd64.whl (226 kB)\n",
      "Downloading cycler-0.12.1-py3-none-any.whl (8.3 kB)\n",
      "Downloading fonttools-4.59.0-cp313-cp313-win_amd64.whl (2.2 MB)\n",
      "   ---------------------------------------- 0.0/2.2 MB ? eta -:--:--\n",
      "   ---------------------------------------- 2.2/2.2 MB 27.3 MB/s eta 0:00:00\n",
      "Downloading kiwisolver-1.4.8-cp313-cp313-win_amd64.whl (71 kB)\n",
      "Downloading pillow-11.3.0-cp313-cp313-win_amd64.whl (7.0 MB)\n",
      "   ---------------------------------------- 0.0/7.0 MB ? eta -:--:--\n",
      "   --------------------------------- ------ 5.8/7.0 MB 28.6 MB/s eta 0:00:01\n",
      "   ---------------------------------------- 7.0/7.0 MB 25.8 MB/s eta 0:00:00\n",
      "Downloading pyparsing-3.2.3-py3-none-any.whl (111 kB)\n",
      "Installing collected packages: pyparsing, pillow, kiwisolver, fonttools, cycler, contourpy, matplotlib\n",
      "Successfully installed contourpy-1.3.3 cycler-0.12.1 fonttools-4.59.0 kiwisolver-1.4.8 matplotlib-3.10.5 pillow-11.3.0 pyparsing-3.2.3\n",
      "Note: you may need to restart the kernel to use updated packages.\n"
     ]
    },
    {
     "name": "stderr",
     "output_type": "stream",
     "text": [
      "\n",
      "[notice] A new release of pip is available: 24.3.1 -> 25.2\n",
      "[notice] To update, run: python.exe -m pip install --upgrade pip\n"
     ]
    }
   ],
   "source": [
    "# instalar o matplotlib\n",
    "\n",
    "%pip install matplotlib\n"
   ]
  },
  {
   "cell_type": "code",
   "execution_count": 46,
   "id": "1fd1385d",
   "metadata": {},
   "outputs": [
    {
     "data": {
      "image/png": "[encoded data removed]",
      "text/plain": [
       "<Figure size 800x600 with 1 Axes>"
      ]
     },
     "metadata": {},
     "output_type": "display_data"
    }
   ],
   "source": [
    "import matplotlib.pyplot as plt\n",
    "\n",
    "x = df['Dia']\n",
    "y = df['valor']\n",
    "\n",
    "plt.figure(figsize=(8,6))\n",
    "plt.title('vendas diarias')\n",
    "plt.bar(x,y, color=\"#2A4763\")\n",
    "plt.show()"
   ]
  },
  {
   "cell_type": "code",
   "execution_count": 47,
   "id": "dfbc81de",
   "metadata": {},
   "outputs": [
    {
     "data": {
      "image/png": "[encoded data removed]",
      "text/plain": [
       "<Figure size 800x600 with 1 Axes>"
      ]
     },
     "metadata": {},
     "output_type": "display_data"
    }
   ],
   "source": [
    "# criar um garfico de vendas por vendedor\n",
    "\n",
    "import matplotlib.pyplot as plt\n",
    "\n",
    "x = df ['vendedor']\n",
    "y = df['valor']\n",
    "\n",
    "plt.figure(figsize=(8,6))\n",
    "plt.title('vendas diarias')\n",
    "plt.bar(x,y, color=\"#2A4763\")\n",
    "plt.show()\n",
    "\n"
   ]
  }
 ],
 "metadata": {
  "kernelspec": {
   "display_name": "dados",
   "language": "python",
   "name": "python3"
  },
  "language_info": {
   "codemirror_mode": {
    "name": "ipython",
    "version": 3
   },
   "file_extension": ".py",
   "mimetype": "text/x-python",
   "name": "python",
   "nbconvert_exporter": "python",
   "pygments_lexer": "ipython3",
   "version": "3.13.2"
  }
 },
 "nbformat": 4,
 "nbformat_minor": 5
}
