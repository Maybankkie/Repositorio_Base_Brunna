{
 "cells": [
  {
   "cell_type": "code",
   "execution_count": 1,
   "id": "f658b7ee",
   "metadata": {},
   "outputs": [
    {
     "name": "stdout",
     "output_type": "stream",
     "text": [
      "\n"
     ]
    }
   ],
   "source": [
    "print()"
   ]
  },
  {
   "cell_type": "code",
   "execution_count": 2,
   "id": "bb065225",
   "metadata": {},
   "outputs": [
    {
     "name": "stdout",
     "output_type": "stream",
     "text": [
      "Collecting requests\n",
      "  Downloading requests-2.32.5-py3-none-any.whl.metadata (4.9 kB)\n",
      "Collecting charset_normalizer<4,>=2 (from requests)\n",
      "  Downloading charset_normalizer-3.4.3-cp313-cp313-win_amd64.whl.metadata (37 kB)\n",
      "Collecting idna<4,>=2.5 (from requests)\n",
      "  Downloading idna-3.10-py3-none-any.whl.metadata (10 kB)\n",
      "Collecting urllib3<3,>=1.21.1 (from requests)\n",
      "  Downloading urllib3-2.5.0-py3-none-any.whl.metadata (6.5 kB)\n",
      "Collecting certifi>=2017.4.17 (from requests)\n",
      "  Downloading certifi-2025.8.3-py3-none-any.whl.metadata (2.4 kB)\n",
      "Downloading requests-2.32.5-py3-none-any.whl (64 kB)\n",
      "Downloading certifi-2025.8.3-py3-none-any.whl (161 kB)\n",
      "Downloading charset_normalizer-3.4.3-cp313-cp313-win_amd64.whl (107 kB)\n",
      "Downloading idna-3.10-py3-none-any.whl (70 kB)\n",
      "Downloading urllib3-2.5.0-py3-none-any.whl (129 kB)\n",
      "Installing collected packages: urllib3, idna, charset_normalizer, certifi, requests\n",
      "Successfully installed certifi-2025.8.3 charset_normalizer-3.4.3 idna-3.10 requests-2.32.5 urllib3-2.5.0\n",
      "Note: you may need to restart the kernel to use updated packages.\n"
     ]
    },
    {
     "name": "stderr",
     "output_type": "stream",
     "text": [
      "\n",
      "[notice] A new release of pip is available: 24.3.1 -> 25.2\n",
      "[notice] To update, run: python.exe -m pip install --upgrade pip\n"
     ]
    }
   ],
   "source": [
    "# para consumir  api, podemos usar \n",
    "\n",
    "# urllib - Nativo do python, porem complexo de usar \n",
    "\n",
    "# Requests - Biblioteca de terceiros, facil de usar \n",
    "%pip install requests\n"
   ]
  },
  {
   "cell_type": "code",
   "execution_count": 8,
   "id": "e3e401eb",
   "metadata": {},
   "outputs": [
    {
     "name": "stdout",
     "output_type": "stream",
     "text": [
      "200\n",
      "[\n",
      "  {\n",
      "    \"userId\": 1,\n",
      "    \"id\": 1,\n",
      "    \"title\": \"sunt aut facere repellat provident occaecati excepturi optio reprehenderit\",\n",
      "    \"body\": \"quia et suscipit\\nsuscipit recusandae consequuntur expedita et cum\\nreprehenderit molestiae ut ut quas totam\\nnostrum rerum est autem sunt rem eveniet architecto\"\n",
      "  }\n",
      "]\n"
     ]
    }
   ],
   "source": [
    "import requests \n",
    "\n",
    "#teste de api, metodo GET - Consumir api\n",
    "\n",
    "conexao = requests.get('https://jsonplaceholder.typicode.com/posts', params={'id':1})\n",
    "\n",
    "print(conexao.status_code)\n",
    "\n",
    "print(conexao.text)\n",
    "\n",
    "#print(conexao.json())\n"
   ]
  },
  {
   "cell_type": "code",
   "execution_count": 10,
   "id": "05074509",
   "metadata": {},
   "outputs": [
    {
     "name": "stdout",
     "output_type": "stream",
     "text": [
      "201\n",
      "{'id': 101, 'nome': 'Bruna', 'Curso': 'Desenvolvimento Imtermediario de Python'}\n"
     ]
    }
   ],
   "source": [
    "#teste de api, metodo POST - enviar dados\n",
    "\n",
    "dados = {\n",
    "\n",
    "    'id': 5,\n",
    "    'nome': 'Bruna',\n",
    "    'Curso': 'Desenvolvimento Imtermediario de Python'\n",
    "}\n",
    "\n",
    "enviardados = requests.post('https://jsonplaceholder.typicode.com/posts', json=dados)\n",
    "\n",
    "print(enviardados.status_code)\n",
    "\n",
    "print(enviardados.json())"
   ]
  }
 ],
 "metadata": {
  "kernelspec": {
   "display_name": ".venv",
   "language": "python",
   "name": "python3"
  },
  "language_info": {
   "codemirror_mode": {
    "name": "ipython",
    "version": 3
   },
   "file_extension": ".py",
   "mimetype": "text/x-python",
   "name": "python",
   "nbconvert_exporter": "python",
   "pygments_lexer": "ipython3",
   "version": "3.13.2"
  }
 },
 "nbformat": 4,
 "nbformat_minor": 5
}
